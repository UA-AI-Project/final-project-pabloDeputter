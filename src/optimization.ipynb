{
 "cells": [
  {
   "cell_type": "markdown",
   "metadata": {},
   "source": [
    "# PPR Optimization"
   ]
  },
  {
   "cell_type": "code",
   "execution_count": 1,
   "metadata": {},
   "outputs": [],
   "source": [
    "import sys\n",
    "\n",
    "sys.path.append(\"..\")\n",
    "from src.evaluator import Evaluator\n",
    "from src.optimizer import OptimizationConfig, BayesianOptimizer\n",
    "from src.models.ppr import PPR, MultiAlphaPPR, TwoPhasePPR"
   ]
  },
  {
   "cell_type": "code",
   "execution_count": 2,
   "metadata": {},
   "outputs": [],
   "source": [
    "evaluator = Evaluator(\"../data/raw/train_interactions.csv\", \"../data/raw/test_interactions_in.csv\")"
   ]
  },
  {
   "cell_type": "code",
   "execution_count": null,
   "metadata": {},
   "outputs": [],
   "source": [
    "configuration = OptimizationConfig(\n",
    "    n_trials=100,\n",
    "    n_random_starts=10,\n",
    "    sample_size=10000,\n",
    "    n_cv_folds=3,\n",
    "    val_size=0.2,\n",
    "    base_seed=42,\n",
    "    metric_weights={\"ndcg\": 0.85, \"recall\": 0.15},\n",
    ")"
   ]
  },
  {
   "cell_type": "markdown",
   "metadata": {},
   "source": [
    "## Bayesian Optimization Setup\n",
    "\n",
    "The optimization process was configured with the following parameters:\n",
    "- Number of trials: 100\n",
    "- Random start points: 10 \n",
    "- Sample size: 10,000 users\n",
    "- Cross-validation folds: 3\n",
    "- Validation split: 20%\n",
    "- Base seed: 42\n",
    "- Metric weights: NDCG@20 (85%) and Recall@20 (15%)"
   ]
  },
  {
   "cell_type": "code",
   "execution_count": null,
   "metadata": {},
   "outputs": [],
   "source": [
    "param_space = {\n",
    "    \"alpha\": (0.0, 0.75),\n",
    "    \"popularity_weight\": (0.0, 0.20),\n",
    "    \"num_iterations\": (75, 600),\n",
    "    \"interaction_weight_processing\": [\"log\"],\n",
    "}\n",
    "\n",
    "optimizer = BayesianOptimizer(\n",
    "    recommender=PPR,\n",
    "    evaluator=evaluator,\n",
    "    param_space=param_space,\n",
    "    config=configuration,\n",
    ")\n",
    "optimizer.optimize()"
   ]
  },
  {
   "cell_type": "markdown",
   "metadata": {},
   "source": [
    "## Personalized PageRank (PPR) Results\n",
    "\n",
    "### Optimized Parameters\n",
    "- Alpha: 0.023\n",
    "- Popularity Weight: 0.033\n",
    "- Number of iterations: 93\n",
    "- Playtime processing: Log transformation\n",
    "\n",
    "### Performance Metrics\n",
    "- Offline NDCG@20: 0.3449\n",
    "- Offline Recall@20: 0.4172\n",
    "- Execution Time: 280s (CPU), 30-45s (GPU)\n",
    "\n",
    "### Parameter Analysis\n",
    "The optimization revealed several key insights about PPR:\n",
    "\n",
    "1. Low Alpha Value (0.023):\n",
    "   - Indicates minimal reliance on random walk component\n",
    "   - Places greater emphasis on the personalization vector\n",
    "   - Suggests graph structure has limited influence on final recommendations\n",
    "\n",
    "2. Near-Zero Popularity Weight (0.033):\n",
    "   - Shows strong preference for personalized scores\n",
    "   - Reduces influence of global popularity metrics\n",
    "   - Indicates personalization alone captures relevant signals\n",
    "\n",
    "3. Moderate Iteration Count (93):\n",
    "   - Suggests relatively quick convergence\n",
    "   - Balances computational cost with performance\n",
    "   - Further iterations show diminishing returns"
   ]
  },
  {
   "cell_type": "code",
   "execution_count": null,
   "metadata": {},
   "outputs": [],
   "source": [
    "param_space = {\n",
    "    \"alpha1\": (0.0, 0.75),\n",
    "    \"alpha2\": (0.0, 0.75),\n",
    "    \"stage1_k\": (50, 250),\n",
    "    \"popularity_weight\": (0.0, 0.20),\n",
    "    \"num_iterations\": (75, 600),\n",
    "    \"interaction_weight_processing\": [\"log\"],\n",
    "}\n",
    "\n",
    "optimizer = BayesianOptimizer(\n",
    "    recommender=TwoPhasePPR,\n",
    "    evaluator=evaluator,\n",
    "    param_space=param_space,\n",
    "    config=configuration,\n",
    ")\n",
    "optimizer.optimize()"
   ]
  },
  {
   "cell_type": "markdown",
   "metadata": {},
   "source": [
    "## Two-Phase PPR Results\n",
    "\n",
    "### Optimized Parameters\n",
    "- Alpha1: 0.041\n",
    "- Alpha2: 0.0\n",
    "- Stage1_K: 148\n",
    "- Popularity Weight: 0.0\n",
    "- Number of iterations: 271\n",
    "\n",
    "### Performance Metrics\n",
    "- Offline NDCG@20: 0.3453\n",
    "- Offline Recall@20: 0.4175\n",
    "- Execution Time: 350s (CPU), 40-55s (GPU)\n",
    "\n",
    "### Parameter Analysis\n",
    "\n",
    "1. First Phase (Alpha1 = 0.041):\n",
    "   - Similar to single-phase PPR\n",
    "   - Slightly higher alpha for broader exploration\n",
    "   - Controls initial recommendation pool\n",
    "\n",
    "2. Second Phase (Alpha2 = 0.0):\n",
    "   - Zero value makes second phase redundant\n",
    "   - Effectively reduces to single-phase approach\n",
    "   - Questions value of two-phase architecture\n",
    "\n",
    "3. Stage1_K (148):\n",
    "   - Moderate filtering of first-stage results\n",
    "   - Shows some value in preliminary filtering\n",
    "   - Limited impact on final recommendations\n",
    "\n",
    "4. Zero Popularity Weight:\n",
    "   - Confirms preference for pure personalization\n",
    "   - Consistent with single-phase findings\n",
    "   - Suggests popularity signals add noise"
   ]
  },
  {
   "cell_type": "code",
   "execution_count": null,
   "metadata": {},
   "outputs": [],
   "source": [
    "param_space = {\n",
    "    \"alphas\": [(0.0, 0.75), (0.0, 0.75), (0.0, 0.75)],\n",
    "    \"alpha_weights\": [(0.0, 1.0), (0.0, 1.0), (0.0, 1.0)],\n",
    "    \"popularity_weight\": (0.0, 0.20),\n",
    "    \"num_iterations\": (75, 600),\n",
    "    \"interaction_weight_processing\": [\"log\"],\n",
    "}\n",
    "\n",
    "optimizer = BayesianOptimizer(\n",
    "    recommender=MultiAlphaPPR,\n",
    "    evaluator=evaluator,\n",
    "    param_space=param_space,\n",
    "    config=OptimizationConfig(\n",
    "        n_trials=100,\n",
    "        n_random_starts=10,\n",
    "        sample_size=10000,\n",
    "        n_cv_folds=3,\n",
    "        val_size=0.2,\n",
    "        base_seed=42,\n",
    "        metric_weights={\"ndcg\": 0.85, \"recall\": 0.15},\n",
    "    ),\n",
    ")\n",
    "optimizer.optimize()"
   ]
  },
  {
   "cell_type": "markdown",
   "metadata": {},
   "source": [
    "## Multi-Alpha PPR Results\n",
    "\n",
    "### Optimized Parameters\n",
    "- Alphas: [0.023, 0.302, 0.0]\n",
    "- Alpha Weights: [1.0, 0.0, 0.0]\n",
    "- Popularity Weight: 0.0\n",
    "- Number of iterations: 106\n",
    "\n",
    "### Key Findings\n",
    "\n",
    "1. Alpha Distribution:\n",
    "   - First alpha dominates (weight 1.0)\n",
    "   - Higher alphas receive zero weight\n",
    "   - Effectively reduces to single-alpha PPR\n",
    "\n",
    "2. Parameter Convergence:\n",
    "   - Optimal first alpha matches basic PPR\n",
    "   - Additional alphas provide no benefit\n",
    "   - Questions value of multiple random walks\n",
    "\n",
    "3. Performance Impact:\n",
    "   - Similar metrics to simpler variants\n",
    "   - Increased computational overhead\n",
    "   - No justification for added complexity"
   ]
  },
  {
   "cell_type": "markdown",
   "metadata": {},
   "source": [
    "## Testing PPR with alpha=0.0"
   ]
  },
  {
   "cell_type": "code",
   "execution_count": 3,
   "metadata": {},
   "outputs": [
    {
     "name": "stderr",
     "output_type": "stream",
     "text": [
      "2025-05-25 13:52:00,351 - INFO - Evaluator - runEvaluation:253 - Starting evaluation with 3 trials\n",
      "2025-05-25 13:52:00,352 - INFO - Evaluator - runEvaluation:255 - Using sampled dataset with 10000 users\n"
     ]
    },
    {
     "data": {
      "application/vnd.jupyter.widget-view+json": {
       "model_id": "c4fbdfa66cc84238a37da76acccd81a8",
       "version_major": 2,
       "version_minor": 0
      },
      "text/plain": [
       "Evaluation trials:   0%|          | 0/3 [00:00<?, ?it/s]"
      ]
     },
     "metadata": {},
     "output_type": "display_data"
    },
    {
     "name": "stderr",
     "output_type": "stream",
     "text": [
      "2025-05-25 13:52:11,038 - INFO - PPR - fit:460 - Creating user-item interaction matrix\n",
      "2025-05-25 13:52:11,163 - INFO - PPR - fit:476 - Creating item-user interaction matrix\n"
     ]
    },
    {
     "data": {
      "application/vnd.jupyter.widget-view+json": {
       "model_id": "0c830ba0346f460b9f1e00b1fcd3ca64",
       "version_major": 2,
       "version_minor": 0
      },
      "text/plain": [
       "Generating recommendations:   0%|          | 0/1 [00:00<?, ?it/s]"
      ]
     },
     "metadata": {},
     "output_type": "display_data"
    },
    {
     "name": "stderr",
     "output_type": "stream",
     "text": [
      "2025-05-25 13:52:11,750 - INFO - PPR - _calculatePPR:278 - PPR converged after 1 iterations.\n",
      "2025-05-25 13:52:25,463 - INFO - PPR - fit:460 - Creating user-item interaction matrix\n",
      "2025-05-25 13:52:25,725 - INFO - PPR - fit:476 - Creating item-user interaction matrix\n"
     ]
    },
    {
     "data": {
      "application/vnd.jupyter.widget-view+json": {
       "model_id": "dff5aa17b174406796412e29cfb4e885",
       "version_major": 2,
       "version_minor": 0
      },
      "text/plain": [
       "Generating recommendations:   0%|          | 0/1 [00:00<?, ?it/s]"
      ]
     },
     "metadata": {},
     "output_type": "display_data"
    },
    {
     "name": "stderr",
     "output_type": "stream",
     "text": [
      "2025-05-25 13:52:27,089 - INFO - PPR - _calculatePPR:278 - PPR converged after 1 iterations.\n",
      "2025-05-25 13:52:39,169 - INFO - PPR - fit:460 - Creating user-item interaction matrix\n",
      "2025-05-25 13:52:39,294 - INFO - PPR - fit:476 - Creating item-user interaction matrix\n"
     ]
    },
    {
     "data": {
      "application/vnd.jupyter.widget-view+json": {
       "model_id": "1a5939ef4ecc4e8c9bb39528a8220a8f",
       "version_major": 2,
       "version_minor": 0
      },
      "text/plain": [
       "Generating recommendations:   0%|          | 0/1 [00:00<?, ?it/s]"
      ]
     },
     "metadata": {},
     "output_type": "display_data"
    },
    {
     "name": "stderr",
     "output_type": "stream",
     "text": [
      "2025-05-25 13:52:39,935 - INFO - PPR - _calculatePPR:278 - PPR converged after 1 iterations.\n"
     ]
    }
   ],
   "source": [
    "# PPR with alpha = 0.0\n",
    "ppr = PPR(alpha=0.0, popularity_weight=0.0, num_iterations=93, interaction_weight_processing=\"log\")\n",
    "ppr_average, ppr_std = evaluator.runEvaluation(ppr, sample_size=10000, n_trials=3)"
   ]
  },
  {
   "cell_type": "code",
   "execution_count": 4,
   "metadata": {},
   "outputs": [
    {
     "name": "stderr",
     "output_type": "stream",
     "text": [
      "2025-05-25 13:52:40,103 - INFO - Evaluator - runEvaluation:253 - Starting evaluation with 3 trials\n",
      "2025-05-25 13:52:40,103 - INFO - Evaluator - runEvaluation:255 - Using sampled dataset with 10000 users\n"
     ]
    },
    {
     "data": {
      "application/vnd.jupyter.widget-view+json": {
       "model_id": "6828f5d683794a4e8d99d3cece13b4cf",
       "version_major": 2,
       "version_minor": 0
      },
      "text/plain": [
       "Evaluation trials:   0%|          | 0/3 [00:00<?, ?it/s]"
      ]
     },
     "metadata": {},
     "output_type": "display_data"
    },
    {
     "data": {
      "application/vnd.jupyter.widget-view+json": {
       "model_id": "a41fdf95211843d19b149336dca0d046",
       "version_major": 2,
       "version_minor": 0
      },
      "text/plain": [
       "Generating recommendations:   0%|          | 0/955 [00:00<?, ?it/s]"
      ]
     },
     "metadata": {},
     "output_type": "display_data"
    },
    {
     "data": {
      "application/vnd.jupyter.widget-view+json": {
       "model_id": "e9aa8f33b7fa46cea69eac8753264374",
       "version_major": 2,
       "version_minor": 0
      },
      "text/plain": [
       "Generating recommendations:   0%|          | 0/958 [00:00<?, ?it/s]"
      ]
     },
     "metadata": {},
     "output_type": "display_data"
    },
    {
     "data": {
      "application/vnd.jupyter.widget-view+json": {
       "model_id": "0d45b89d92df45918f96b6f91743ab13",
       "version_major": 2,
       "version_minor": 0
      },
      "text/plain": [
       "Generating recommendations:   0%|          | 0/969 [00:00<?, ?it/s]"
      ]
     },
     "metadata": {},
     "output_type": "display_data"
    }
   ],
   "source": [
    "from models import Popularity\n",
    "\n",
    "pop = Popularity()\n",
    "pop_average, pop_std = evaluator.runEvaluation(pop, sample_size=10000, n_trials=3)"
   ]
  },
  {
   "cell_type": "code",
   "execution_count": 5,
   "metadata": {},
   "outputs": [
    {
     "data": {
      "image/png": "[encoded data removed]",
      "text/plain": [
       "<Figure size 640x480 with 1 Axes>"
      ]
     },
     "metadata": {},
     "output_type": "display_data"
    }
   ],
   "source": [
    "import matplotlib.pyplot as plt\n",
    "\n",
    "# Data to plot\n",
    "labels = [\"NDCG\", \"Recall\"]\n",
    "ppr_means = [ppr_average[\"ndcg\"], ppr_average[\"recall\"]]\n",
    "pop_means = [pop_average[\"ndcg\"], pop_average[\"recall\"]]\n",
    "ppr_std_devs = [ppr_std[\"ndcg\"], ppr_std[\"recall\"]]\n",
    "pop_std_devs = [pop_std[\"ndcg\"], pop_std[\"recall\"]]\n",
    "\n",
    "x = range(len(labels))  # the label locations\n",
    "\n",
    "# Plotting\n",
    "fig, ax = plt.subplots()\n",
    "bar_width = 0.35  # the width of the bars\n",
    "\n",
    "# PPR bars\n",
    "rects1 = ax.bar(x, ppr_means, bar_width, yerr=ppr_std_devs, label=\"PPR\", capsize=5)\n",
    "\n",
    "# Popularity bars\n",
    "rects2 = ax.bar(\n",
    "    [i + bar_width for i in x],\n",
    "    pop_means,\n",
    "    bar_width,\n",
    "    yerr=pop_std_devs,\n",
    "    label=\"Popularity\",\n",
    "    capsize=5,\n",
    ")\n",
    "\n",
    "# Add some text for labels, title and custom x-axis tick labels, etc.\n",
    "ax.set_xlabel(\"Metrics\")\n",
    "ax.set_ylabel(\"Scores\")\n",
    "ax.set_title(\"Comparison of PPR and Popularity Models\")\n",
    "ax.set_xticks([i + bar_width / 2 for i in x])\n",
    "ax.set_xticklabels(labels)\n",
    "ax.legend()\n",
    "\n",
    "\n",
    "# Function to add labels on bars\n",
    "def add_labels(rects):\n",
    "    for rect in rects:\n",
    "        height = rect.get_height()\n",
    "        ax.annotate(\n",
    "            f\"{round(height, 4)}\",\n",
    "            xy=(rect.get_x() + rect.get_width() / 2, height),\n",
    "            xytext=(0, 3),  # 3 points vertical offset\n",
    "            textcoords=\"offset points\",\n",
    "            ha=\"center\",\n",
    "            va=\"bottom\",\n",
    "        )\n",
    "\n",
    "\n",
    "add_labels(rects1)\n",
    "add_labels(rects2)\n",
    "\n",
    "plt.show()"
   ]
  },
  {
   "cell_type": "markdown",
   "metadata": {},
   "source": [
    "## Alpha Insights\n",
    "\n",
    "### Effect of Low Alpha Values\n",
    "1. Personalization Vector Dominance:\n",
    "   - Strong influence of user history\n",
    "   - Limited graph exploration\n",
    "   - Focused recommendations\n",
    "\n",
    "2. Graph Structure Impact:\n",
    "   - Minimal influence on final scores\n",
    "   - Questions value of complex graph modeling\n",
    "   - Suggests simpler approaches might suffice\n",
    "\n",
    "### Alpha = 0 Case\n",
    "1. Baseline Behavior:\n",
    "   - Reduces to popularity-based recommendations\n",
    "   - No graph structure utilization\n",
    "   - Serves as effective lower bound\n",
    "\n",
    "### Small vs Zero Alpha\n",
    "1. Performance Difference:\n",
    "   - Slight advantage with small non-zero alpha\n",
    "   - Minimal graph structure information helps\n",
    "   - Optimal balance found at very low values\n",
    "\n",
    "### MultiAlpha Implications\n",
    "1. Complexity vs Benefit:\n",
    "   - Low alphas dominate optimization\n",
    "   - Multiple alphas provide no advantage\n",
    "   - Additional computation without gain"
   ]
  },
  {
   "cell_type": "markdown",
   "metadata": {},
   "source": [
    "## Creating submissions"
   ]
  },
  {
   "cell_type": "code",
   "execution_count": 6,
   "metadata": {},
   "outputs": [
    {
     "name": "stderr",
     "output_type": "stream",
     "text": [
      "2025-05-25 13:53:14,225 - INFO - Evaluator - createSubmission:307 - Starting submission creation\n",
      "2025-05-25 13:53:14,231 - INFO - Evaluator - createSubmission:308 - Using recommender: PPR\n",
      "2025-05-25 13:53:14,295 - INFO - PPR - fit:460 - Creating user-item interaction matrix\n",
      "2025-05-25 13:53:15,080 - INFO - PPR - fit:476 - Creating item-user interaction matrix\n"
     ]
    },
    {
     "data": {
      "application/vnd.jupyter.widget-view+json": {
       "model_id": "583075a60634499e931624555d480c99",
       "version_major": 2,
       "version_minor": 0
      },
      "text/plain": [
       "Generating recommendations:   0%|          | 0/14 [00:00<?, ?it/s]"
      ]
     },
     "metadata": {},
     "output_type": "display_data"
    },
    {
     "name": "stderr",
     "output_type": "stream",
     "text": [
      "2025-05-25 13:53:29,427 - INFO - PPR - _calculatePPR:278 - PPR converged after 4 iterations.\n",
      "2025-05-25 13:53:42,046 - INFO - PPR - _calculatePPR:278 - PPR converged after 4 iterations.\n",
      "2025-05-25 13:53:55,115 - INFO - PPR - _calculatePPR:278 - PPR converged after 4 iterations.\n",
      "2025-05-25 13:54:07,805 - INFO - PPR - _calculatePPR:278 - PPR converged after 4 iterations.\n",
      "2025-05-25 13:54:20,597 - INFO - PPR - _calculatePPR:278 - PPR converged after 4 iterations.\n",
      "2025-05-25 13:54:33,577 - INFO - PPR - _calculatePPR:278 - PPR converged after 4 iterations.\n",
      "2025-05-25 13:54:46,348 - INFO - PPR - _calculatePPR:278 - PPR converged after 4 iterations.\n",
      "2025-05-25 13:54:59,344 - INFO - PPR - _calculatePPR:278 - PPR converged after 4 iterations.\n",
      "2025-05-25 13:55:11,848 - INFO - PPR - _calculatePPR:278 - PPR converged after 4 iterations.\n",
      "2025-05-25 13:55:24,751 - INFO - PPR - _calculatePPR:278 - PPR converged after 4 iterations.\n",
      "2025-05-25 13:55:37,471 - INFO - PPR - _calculatePPR:278 - PPR converged after 4 iterations.\n",
      "2025-05-25 13:55:50,012 - INFO - PPR - _calculatePPR:278 - PPR converged after 4 iterations.\n",
      "2025-05-25 13:56:02,819 - INFO - PPR - _calculatePPR:278 - PPR converged after 4 iterations.\n",
      "2025-05-25 13:56:06,377 - INFO - PPR - _calculatePPR:278 - PPR converged after 4 iterations.\n",
      "2025-05-25 13:56:06,427 - INFO - Evaluator - createSubmission:322 - Recommendations generated in  172.19 seconds\n",
      "2025-05-25 13:56:07,291 - INFO - Evaluator - createSubmission:342 - Saved submission files: \n",
      "CSV: ../output/submissions/submission_PPR_20250525_135607.csv\n",
      "ZIP: ../output/submissions/submission_PPR_20250525_135607.zip\n",
      "2025-05-25 13:56:07,330 - INFO - Evaluator - createSubmission:307 - Starting submission creation\n",
      "2025-05-25 13:56:07,330 - INFO - Evaluator - createSubmission:308 - Using recommender: MultiAlphaPPR\n",
      "2025-05-25 13:56:07,363 - INFO - MultiAlphaPPR - fit:460 - Creating user-item interaction matrix\n",
      "2025-05-25 13:56:08,050 - INFO - MultiAlphaPPR - fit:476 - Creating item-user interaction matrix\n"
     ]
    },
    {
     "data": {
      "application/vnd.jupyter.widget-view+json": {
       "model_id": "11cd4cbca7f442bcb755726f041ca706",
       "version_major": 2,
       "version_minor": 0
      },
      "text/plain": [
       "Generating recommendations:   0%|          | 0/14 [00:00<?, ?it/s]"
      ]
     },
     "metadata": {},
     "output_type": "display_data"
    },
    {
     "name": "stderr",
     "output_type": "stream",
     "text": [
      "2025-05-25 13:56:20,265 - INFO - MultiAlphaPPR - _calculatePPR:87 - Converged after 4 iterations for alpha 0.022625538386329365\n",
      "2025-05-25 13:56:45,437 - INFO - MultiAlphaPPR - _calculatePPR:87 - Converged after 8 iterations for alpha 0.3015889812327148\n",
      "2025-05-25 13:56:48,634 - INFO - MultiAlphaPPR - _calculatePPR:87 - Converged after 1 iterations for alpha 0.0\n",
      "2025-05-25 13:57:01,961 - INFO - MultiAlphaPPR - _calculatePPR:87 - Converged after 4 iterations for alpha 0.022625538386329365\n",
      "2025-05-25 13:57:26,983 - INFO - MultiAlphaPPR - _calculatePPR:87 - Converged after 8 iterations for alpha 0.3015889812327148\n",
      "2025-05-25 13:57:30,288 - INFO - MultiAlphaPPR - _calculatePPR:87 - Converged after 1 iterations for alpha 0.0\n",
      "2025-05-25 13:57:44,408 - INFO - MultiAlphaPPR - _calculatePPR:87 - Converged after 4 iterations for alpha 0.022625538386329365\n",
      "2025-05-25 13:58:10,597 - INFO - MultiAlphaPPR - _calculatePPR:87 - Converged after 8 iterations for alpha 0.3015889812327148\n",
      "2025-05-25 13:58:13,864 - INFO - MultiAlphaPPR - _calculatePPR:87 - Converged after 1 iterations for alpha 0.0\n",
      "2025-05-25 13:58:26,740 - INFO - MultiAlphaPPR - _calculatePPR:87 - Converged after 4 iterations for alpha 0.022625538386329365\n",
      "2025-05-25 13:58:52,407 - INFO - MultiAlphaPPR - _calculatePPR:87 - Converged after 8 iterations for alpha 0.3015889812327148\n",
      "2025-05-25 13:58:55,815 - INFO - MultiAlphaPPR - _calculatePPR:87 - Converged after 1 iterations for alpha 0.0\n",
      "2025-05-25 13:59:14,224 - INFO - MultiAlphaPPR - _calculatePPR:87 - Converged after 4 iterations for alpha 0.022625538386329365\n",
      "2025-05-25 13:59:43,057 - INFO - MultiAlphaPPR - _calculatePPR:87 - Converged after 9 iterations for alpha 0.3015889812327148\n",
      "2025-05-25 13:59:46,286 - INFO - MultiAlphaPPR - _calculatePPR:87 - Converged after 1 iterations for alpha 0.0\n",
      "2025-05-25 13:59:59,543 - INFO - MultiAlphaPPR - _calculatePPR:87 - Converged after 4 iterations for alpha 0.022625538386329365\n",
      "2025-05-25 14:00:34,655 - INFO - MultiAlphaPPR - _calculatePPR:87 - Converged after 9 iterations for alpha 0.3015889812327148\n",
      "2025-05-25 14:00:38,874 - INFO - MultiAlphaPPR - _calculatePPR:87 - Converged after 1 iterations for alpha 0.0\n",
      "2025-05-25 14:00:52,278 - INFO - MultiAlphaPPR - _calculatePPR:87 - Converged after 4 iterations for alpha 0.022625538386329365\n",
      "2025-05-25 14:01:19,340 - INFO - MultiAlphaPPR - _calculatePPR:87 - Converged after 8 iterations for alpha 0.3015889812327148\n",
      "2025-05-25 14:01:22,869 - INFO - MultiAlphaPPR - _calculatePPR:87 - Converged after 1 iterations for alpha 0.0\n",
      "2025-05-25 14:01:36,512 - INFO - MultiAlphaPPR - _calculatePPR:87 - Converged after 4 iterations for alpha 0.022625538386329365\n",
      "2025-05-25 14:02:04,244 - INFO - MultiAlphaPPR - _calculatePPR:87 - Converged after 8 iterations for alpha 0.3015889812327148\n",
      "2025-05-25 14:02:07,537 - INFO - MultiAlphaPPR - _calculatePPR:87 - Converged after 1 iterations for alpha 0.0\n",
      "2025-05-25 14:02:20,817 - INFO - MultiAlphaPPR - _calculatePPR:87 - Converged after 4 iterations for alpha 0.022625538386329365\n",
      "2025-05-25 14:02:48,246 - INFO - MultiAlphaPPR - _calculatePPR:87 - Converged after 8 iterations for alpha 0.3015889812327148\n",
      "2025-05-25 14:02:55,959 - INFO - MultiAlphaPPR - _calculatePPR:87 - Converged after 1 iterations for alpha 0.0\n",
      "2025-05-25 14:03:15,102 - INFO - MultiAlphaPPR - _calculatePPR:87 - Converged after 4 iterations for alpha 0.022625538386329365\n",
      "2025-05-25 14:03:43,247 - INFO - MultiAlphaPPR - _calculatePPR:87 - Converged after 8 iterations for alpha 0.3015889812327148\n",
      "2025-05-25 14:03:46,526 - INFO - MultiAlphaPPR - _calculatePPR:87 - Converged after 1 iterations for alpha 0.0\n",
      "2025-05-25 14:04:00,423 - INFO - MultiAlphaPPR - _calculatePPR:87 - Converged after 4 iterations for alpha 0.022625538386329365\n",
      "2025-05-25 14:04:26,091 - INFO - MultiAlphaPPR - _calculatePPR:87 - Converged after 8 iterations for alpha 0.3015889812327148\n",
      "2025-05-25 14:04:29,381 - INFO - MultiAlphaPPR - _calculatePPR:87 - Converged after 1 iterations for alpha 0.0\n",
      "2025-05-25 14:04:42,527 - INFO - MultiAlphaPPR - _calculatePPR:87 - Converged after 4 iterations for alpha 0.022625538386329365\n",
      "2025-05-25 14:05:11,067 - INFO - MultiAlphaPPR - _calculatePPR:87 - Converged after 9 iterations for alpha 0.3015889812327148\n",
      "2025-05-25 14:05:14,565 - INFO - MultiAlphaPPR - _calculatePPR:87 - Converged after 1 iterations for alpha 0.0\n",
      "2025-05-25 14:05:32,139 - INFO - MultiAlphaPPR - _calculatePPR:87 - Converged after 4 iterations for alpha 0.022625538386329365\n",
      "2025-05-25 14:06:03,231 - INFO - MultiAlphaPPR - _calculatePPR:87 - Converged after 9 iterations for alpha 0.3015889812327148\n",
      "2025-05-25 14:06:06,622 - INFO - MultiAlphaPPR - _calculatePPR:87 - Converged after 1 iterations for alpha 0.0\n",
      "2025-05-25 14:06:13,254 - INFO - MultiAlphaPPR - _calculatePPR:87 - Converged after 4 iterations for alpha 0.022625538386329365\n",
      "2025-05-25 14:06:32,744 - INFO - MultiAlphaPPR - _calculatePPR:87 - Converged after 8 iterations for alpha 0.3015889812327148\n",
      "2025-05-25 14:06:34,630 - INFO - MultiAlphaPPR - _calculatePPR:87 - Converged after 1 iterations for alpha 0.0\n",
      "2025-05-25 14:06:34,684 - INFO - Evaluator - createSubmission:322 - Recommendations generated in  627.35 seconds\n",
      "2025-05-25 14:06:37,405 - INFO - Evaluator - createSubmission:342 - Saved submission files: \n",
      "CSV: ../output/submissions/submission_MultiAlphaPPR_20250525_140637.csv\n",
      "ZIP: ../output/submissions/submission_MultiAlphaPPR_20250525_140637.zip\n",
      "2025-05-25 14:06:37,486 - INFO - Evaluator - createSubmission:307 - Starting submission creation\n",
      "2025-05-25 14:06:37,487 - INFO - Evaluator - createSubmission:308 - Using recommender: TwoPhasePPR\n",
      "2025-05-25 14:06:37,555 - INFO - TwoPhasePPR - fit:460 - Creating user-item interaction matrix\n",
      "2025-05-25 14:06:38,732 - INFO - TwoPhasePPR - fit:476 - Creating item-user interaction matrix\n"
     ]
    },
    {
     "data": {
      "application/vnd.jupyter.widget-view+json": {
       "model_id": "776947e162c84c24befeac2633c7baae",
       "version_major": 2,
       "version_minor": 0
      },
      "text/plain": [
       "Generating recommendations:   0%|          | 0/14 [00:00<?, ?it/s]"
      ]
     },
     "metadata": {},
     "output_type": "display_data"
    },
    {
     "name": "stderr",
     "output_type": "stream",
     "text": [
      "2025-05-25 14:07:01,028 - INFO - TwoPhasePPR - _calculatePPR:75 - Converged after 4 iterations\n",
      "2025-05-25 14:07:08,775 - INFO - TwoPhasePPR - _calculatePPR:94 - Converged after 1 iterations\n",
      "2025-05-25 14:07:28,139 - INFO - TwoPhasePPR - _calculatePPR:75 - Converged after 4 iterations\n",
      "2025-05-25 14:07:35,180 - INFO - TwoPhasePPR - _calculatePPR:94 - Converged after 1 iterations\n",
      "2025-05-25 14:07:54,091 - INFO - TwoPhasePPR - _calculatePPR:75 - Converged after 4 iterations\n",
      "2025-05-25 14:08:01,257 - INFO - TwoPhasePPR - _calculatePPR:94 - Converged after 1 iterations\n",
      "2025-05-25 14:08:28,417 - INFO - TwoPhasePPR - _calculatePPR:75 - Converged after 4 iterations\n",
      "2025-05-25 14:08:32,555 - INFO - TwoPhasePPR - _calculatePPR:94 - Converged after 1 iterations\n",
      "2025-05-25 14:08:48,001 - INFO - TwoPhasePPR - _calculatePPR:75 - Converged after 4 iterations\n",
      "2025-05-25 14:08:52,012 - INFO - TwoPhasePPR - _calculatePPR:94 - Converged after 1 iterations\n",
      "2025-05-25 14:09:08,264 - INFO - TwoPhasePPR - _calculatePPR:75 - Converged after 4 iterations\n",
      "2025-05-25 14:09:11,992 - INFO - TwoPhasePPR - _calculatePPR:94 - Converged after 1 iterations\n",
      "2025-05-25 14:09:38,141 - INFO - TwoPhasePPR - _calculatePPR:75 - Converged after 4 iterations\n",
      "2025-05-25 14:09:43,579 - INFO - TwoPhasePPR - _calculatePPR:94 - Converged after 1 iterations\n",
      "2025-05-25 14:09:53,798 - INFO - TwoPhasePPR - _calculatePPR:75 - Converged after 4 iterations\n",
      "2025-05-25 14:09:56,328 - INFO - TwoPhasePPR - _calculatePPR:94 - Converged after 1 iterations\n",
      "2025-05-25 14:10:05,726 - INFO - TwoPhasePPR - _calculatePPR:75 - Converged after 4 iterations\n",
      "2025-05-25 14:10:08,068 - INFO - TwoPhasePPR - _calculatePPR:94 - Converged after 1 iterations\n",
      "2025-05-25 14:10:16,826 - INFO - TwoPhasePPR - _calculatePPR:75 - Converged after 4 iterations\n",
      "2025-05-25 14:10:19,084 - INFO - TwoPhasePPR - _calculatePPR:94 - Converged after 1 iterations\n",
      "2025-05-25 14:10:27,922 - INFO - TwoPhasePPR - _calculatePPR:75 - Converged after 4 iterations\n",
      "2025-05-25 14:10:30,210 - INFO - TwoPhasePPR - _calculatePPR:94 - Converged after 1 iterations\n",
      "2025-05-25 14:10:39,061 - INFO - TwoPhasePPR - _calculatePPR:75 - Converged after 4 iterations\n",
      "2025-05-25 14:10:41,301 - INFO - TwoPhasePPR - _calculatePPR:94 - Converged after 1 iterations\n",
      "2025-05-25 14:10:50,281 - INFO - TwoPhasePPR - _calculatePPR:75 - Converged after 4 iterations\n",
      "2025-05-25 14:10:52,516 - INFO - TwoPhasePPR - _calculatePPR:94 - Converged after 1 iterations\n",
      "2025-05-25 14:10:55,385 - INFO - TwoPhasePPR - _calculatePPR:75 - Converged after 4 iterations\n",
      "2025-05-25 14:10:56,095 - INFO - TwoPhasePPR - _calculatePPR:94 - Converged after 1 iterations\n",
      "2025-05-25 14:10:56,133 - INFO - Evaluator - createSubmission:322 - Recommendations generated in  258.65 seconds\n",
      "2025-05-25 14:10:57,104 - INFO - Evaluator - createSubmission:342 - Saved submission files: \n",
      "CSV: ../output/submissions/submission_TwoPhasePPR_20250525_141056.csv\n",
      "ZIP: ../output/submissions/submission_TwoPhasePPR_20250525_141056.zip\n"
     ]
    },
    {
     "data": {
      "text/plain": [
       "('../output/submissions/submission_TwoPhasePPR_20250525_141056.csv',\n",
       " '../output/submissions/submission_TwoPhasePPR_20250525_141056.zip')"
      ]
     },
     "execution_count": 6,
     "metadata": {},
     "output_type": "execute_result"
    }
   ],
   "source": [
    "params_ppr = {\n",
    "    \"alpha\": 0.023158004249229626,\n",
    "    \"popularity_weight\": 0.033105547887524185,\n",
    "    \"num_iterations\": 93,\n",
    "    \"interaction_weight_processing\": \"log\",\n",
    "}\n",
    "evaluator.createSubmission(PPR(**params_ppr), \"../output/submissions\")\n",
    "params_mappr = {\n",
    "    \"alphas\": [0.022625538386329365, 0.3015889812327148, 0.0],\n",
    "    \"alpha_weights\": [1.0, 0.0, 0.0],\n",
    "    \"popularity_weight\": 0.0,\n",
    "    \"num_iterations\": 106,\n",
    "    \"interaction_weight_processing\": \"log\",\n",
    "}\n",
    "evaluator.createSubmission(MultiAlphaPPR(**params_mappr), \"../output/submissions\")\n",
    "params_tppr = {\n",
    "    \"alpha1\": 0.04052983557401711,\n",
    "    \"alpha2\": 0.0,\n",
    "    \"stage1_k\": 148,\n",
    "    \"popularity_weight\": 0.0,\n",
    "    \"num_iterations\": 271,\n",
    "    \"interaction_weight_processing\": \"log\",\n",
    "}\n",
    "evaluator.createSubmission(TwoPhasePPR(**params_tppr), \"../output/submissions\")"
   ]
  }
 ],
 "metadata": {
  "kernelspec": {
   "display_name": ".venv",
   "language": "python",
   "name": "python3"
  },
  "language_info": {
   "codemirror_mode": {
    "name": "ipython",
    "version": 3
   },
   "file_extension": ".py",
   "mimetype": "text/x-python",
   "name": "python",
   "nbconvert_exporter": "python",
   "pygments_lexer": "ipython3",
   "version": "3.10.15"
  }
 },
 "nbformat": 4,
 "nbformat_minor": 2
}
