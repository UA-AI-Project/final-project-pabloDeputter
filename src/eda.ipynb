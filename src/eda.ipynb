{
 "cells": [
  {
   "cell_type": "code",
   "execution_count": 27,
   "metadata": {},
   "outputs": [],
   "source": [
    "import pandas as pd\n",
    "import matplotlib.pyplot as plt\n",
    "import seaborn as sns\n",
    "\n",
    "from scipy import stats"
   ]
  },
  {
   "cell_type": "code",
   "execution_count": 28,
   "metadata": {},
   "outputs": [],
   "source": [
    "# Set plot style\n",
    "sns.set(style=\"white\", palette=\"tab10\")\n",
    "plt.rcParams['figure.figsize'] = [12, 8]"
   ]
  },
  {
   "cell_type": "code",
   "execution_count": 29,
   "metadata": {},
   "outputs": [],
   "source": [
    "def loadData(filepath: str) -> pd.DataFrame:\n",
    "    \"\"\"\n",
    "    Load the dataset and display basic information\n",
    "\n",
    "    :param filepath: Path to the dataset\n",
    "    :return df: DataFrame containing the dataset\n",
    "    \"\"\"\n",
    "    print(\"\\nDataset Basic Information:\")\n",
    "    print(\"-\" * 30)\n",
    "\n",
    "    df = pd.read_csv(filepath)\n",
    "    print(f\"Dataset shape: {df.shape}\")\n",
    "    \n",
    "    # Basic info about the dataset\n",
    "    print(\"\\nDataset Info:\")\n",
    "    print(df.info())\n",
    "    \n",
    "    # Check for missing values\n",
    "    print(\"\\nMissing values:\")\n",
    "    print(df.isnull().sum())\n",
    "    \n",
    "    # Basic information\n",
    "    print(f\"Number of records: {len(df):,}\")\n",
    "    print(f\"Number of unique users: {df['user_id'].nunique():,}\")\n",
    "    print(f\"Number of unique items: {df['item_id'].nunique():,}\")\n",
    "    \n",
    "    return df"
   ]
  },
  {
   "cell_type": "code",
   "execution_count": null,
   "metadata": {},
   "outputs": [],
   "source": [
    "train_df = loadData(\"../data/raw/train_interactions.csv\")\n",
    "# check how many users have <= 5 interactions\n",
    "user_interactions = train_df['user_id'].value_counts()\n",
    "print(f\"\\nNumber of users with <= 5 interactions: {sum(user_interactions <= 5)}\")"
   ]
  },
  {
   "cell_type": "markdown",
   "metadata": {},
   "source": [
    "**Observations:**\n",
    "\n",
    "- The dataset contains 2,293,985 interaction records.\n",
    "- There are 54,315 unique users and 8,368 unique items.\n",
    "- There are no missing values in the dataset.\n",
    "- A significant number of users (8,928) have 5 or fewer interactions."
   ]
  },
  {
   "cell_type": "code",
   "execution_count": 31,
   "metadata": {},
   "outputs": [],
   "source": [
    "def analyzePlaytimeDistribution(df: pd.DataFrame):\n",
    "    \"\"\"\n",
    "    Analyze the playtime distribution and identify outliers\n",
    "\n",
    "    :param df: DataFrame containing the dataset\n",
    "    \"\"\"\n",
    "    print(\"\\nPlaytime Statistics:\")\n",
    "    print(\"-\" * 30)\n",
    "    \n",
    "    # Basic statistics\n",
    "    playtime_stats = df['playtime'].describe()\n",
    "    print(playtime_stats)\n",
    "    \n",
    "    # Calculate additional metrics\n",
    "    skewness = stats.skew(df['playtime'])\n",
    "    kurtosis = stats.kurtosis(df['playtime'])\n",
    "    \n",
    "    print(f\"\\nSkewness: {skewness:.2f}\")\n",
    "    print(f\"Kurtosis: {kurtosis:.2f}\")\n",
    "\n",
    "    # Visualize distribution\n",
    "    plt.figure(figsize=(15, 5))\n",
    "    \n",
    "    # Plot 1: Distribution\n",
    "    plt.subplot(121)\n",
    "    plt.hist(df['playtime'], bins=50)\n",
    "    plt.title('Playtime Distribution')\n",
    "    plt.xlabel('Playtime')\n",
    "    plt.ylabel('Count')\n",
    "    \n",
    "    # Plot 2: Box plot\n",
    "    plt.subplot(122)\n",
    "    plt.boxplot(df['playtime'])\n",
    "    plt.title('Playtime Box Plot')\n",
    "    plt.ylabel('Playtime')\n",
    "    \n",
    "    plt.tight_layout()\n",
    "    plt.show()\n",
    "    \n",
    "    # Visualize distribution\n",
    "    plt.figure(figsize=(15, 5))\n",
    "    \n",
    "    # Plot 1: Distribution with log scale\n",
    "    plt.subplot(121)\n",
    "    plt.hist(df['playtime'], bins=50)\n",
    "    plt.yscale('log')\n",
    "    plt.title('Playtime Distribution (Log Scale)')\n",
    "    plt.xlabel('Playtime')\n",
    "    plt.ylabel('Count (log)')\n",
    "    \n",
    "    # Plot 2: Box plot\n",
    "    plt.subplot(122)\n",
    "    plt.boxplot(df['playtime'])\n",
    "    plt.title('Playtime Box Plot')\n",
    "    plt.ylabel('Playtime')\n",
    "    \n",
    "    plt.tight_layout()\n",
    "    plt.show()\n",
    "    \n",
    "    # Calculate quantiles for outlier analysis\n",
    "    quantiles = df['playtime'].quantile([0.25, 0.5, 0.75, 0.9, 0.95, 0.99])\n",
    "    print(\"\\nPlaytime Quantiles:\")\n",
    "    print(\"-\" * 30)\n",
    "    for q, value in quantiles.items():\n",
    "        print(f\"{q*100}th percentile: {value:.2f}\")"
   ]
  },
  {
   "cell_type": "code",
   "execution_count": null,
   "metadata": {},
   "outputs": [],
   "source": [
    "analyzePlaytimeDistribution(train_df)"
   ]
  },
  {
   "cell_type": "markdown",
   "metadata": {},
   "source": [
    "**Observations:**\n",
    "\n",
    "- The playtime data is highly skewed, with a mean of 1578.78 and a significant standard deviation of 6894.91. The median playtime is only 210.\n",
    "- The skewness of 16.31 and kurtosis of 522.29 confirm this strong positive skew and the presence of outliers.\n",
    "- The quantiles show a large spread, particularly at higher percentiles (99th percentile is 26437.32).\n",
    "- The log-scaled histogram reveals more detail in the lower playtime ranges.\n"
   ]
  },
  {
   "cell_type": "code",
   "execution_count": 33,
   "metadata": {},
   "outputs": [],
   "source": [
    "def analyzeUserEngagement(df: pd.DataFrame) -> pd.Series:\n",
    "    \"\"\"\n",
    "    Analyze user engagement by calculating the number of games played per user\n",
    "\n",
    "    :param df: DataFrame containing the dataset\n",
    "\n",
    "    :return games_per_user: Series containing the number of games played per user\n",
    "    \"\"\"\n",
    "    print(\"\\nUser Engagement Analysis:\")\n",
    "    print(\"-\" * 30)\n",
    "    \n",
    "    # Games per user\n",
    "    games_per_user = df.groupby('user_id').size()\n",
    "    \n",
    "    print(\"\\nGames per User Statistics:\")\n",
    "    print(games_per_user.describe())\n",
    "    \n",
    "    # Visualize distribution\n",
    "    plt.figure(figsize=(15, 5))\n",
    "    \n",
    "    # Plot 1: Games per user distribution\n",
    "    plt.subplot(121)\n",
    "    plt.hist(games_per_user, bins=50)\n",
    "    plt.title('Distribution of Games per User')\n",
    "    plt.xlabel('Number of Games')\n",
    "    plt.ylabel('Number of Users')\n",
    "    \n",
    "    # Plot 2: Games per user boxplot\n",
    "    plt.subplot(122)\n",
    "    plt.boxplot(games_per_user)\n",
    "    plt.title('Games per User Box Plot')\n",
    "    plt.ylabel('Number of Games')\n",
    "    \n",
    "    plt.tight_layout()\n",
    "    plt.show()\n",
    "    \n",
    "    return games_per_user"
   ]
  },
  {
   "cell_type": "code",
   "execution_count": null,
   "metadata": {},
   "outputs": [],
   "source": [
    "games_per_user = analyzeUserEngagement(train_df)"
   ]
  },
  {
   "cell_type": "markdown",
   "metadata": {},
   "source": [
    "**Observations:**\n",
    "\n",
    "- On average, users have played approximately 42.23 games.\n",
    "- The distribution is also skewed right, with a large standard deviation of 61.38, indicating variability in user engagement.\n",
    "- The median is 26, suggesting that many users have played significantly fewer games than the mean.\n",
    "- The maximum number of games played by a user is 2897, highlighting some extremely active users.\n"
   ]
  },
  {
   "cell_type": "code",
   "execution_count": 35,
   "metadata": {},
   "outputs": [],
   "source": [
    "def analyzeItemPopularity(df: pd.DataFrame) -> pd.Series:\n",
    "    \"\"\"\n",
    "    Analyze item popularity by calculating the number of times each item is played\n",
    "\n",
    "    :param df: DataFrame containing the dataset\n",
    "    \n",
    "    :return item_popularity: Series containing the number of times each item is played\n",
    "    \"\"\"\n",
    "    print(\"\\nItem Popularity Analysis:\")\n",
    "    print(\"-\" * 30)\n",
    "    \n",
    "    # Games per item\n",
    "    item_popularity = df.groupby('item_id').size()\n",
    "    \n",
    "    print(\"\\nItem Popularity Statistics:\")\n",
    "    print(item_popularity.describe())\n",
    "    \n",
    "    # Visualize distribution\n",
    "    plt.figure(figsize=(15, 5))\n",
    "    \n",
    "    # Plot 1: Item popularity distribution\n",
    "    plt.subplot(121)\n",
    "    plt.hist(item_popularity, bins=50)\n",
    "    plt.title('Distribution of Item Popularity')\n",
    "    plt.xlabel('Number of Plays')\n",
    "    plt.ylabel('Number of Items')\n",
    "    \n",
    "    # Plot 2: Item popularity boxplot\n",
    "    plt.subplot(122)\n",
    "    plt.boxplot(item_popularity)\n",
    "    plt.title('Item Popularity Box Plot')\n",
    "    plt.ylabel('Number of Plays')\n",
    "\n",
    "    plt.tight_layout()\n",
    "    plt.show()\n",
    "\n",
    "    # Plot 1: Item popularity distribution\n",
    "    plt.subplot(121)\n",
    "    plt.hist(item_popularity, bins=50)\n",
    "    plt.title('Distribution of Item Popularity (Log Scale)')\n",
    "    plt.yscale('log')\n",
    "    plt.xlabel('Number of Plays')\n",
    "    plt.ylabel('Number of Items (log)')\n",
    "    \n",
    "    # Plot 2: Item popularity boxplot\n",
    "    plt.subplot(122)\n",
    "    plt.boxplot(item_popularity)\n",
    "    plt.title('Item Popularity Box Plot')\n",
    "    plt.ylabel('Number of Plays')\n",
    "    \n",
    "    plt.tight_layout()\n",
    "    plt.show()\n",
    "    \n",
    "    return item_popularity"
   ]
  },
  {
   "cell_type": "code",
   "execution_count": null,
   "metadata": {},
   "outputs": [],
   "source": [
    "item_popularity = analyzeItemPopularity(train_df)"
   ]
  },
  {
   "cell_type": "markdown",
   "metadata": {},
   "source": [
    "**Observations:**\n",
    "- The distribution of item popularity is also right skewed, with a mean of 274.\n",
    "- Again, log-scaling the histogram reveals more detail in the lower popularity ranges."
   ]
  }
 ],
 "metadata": {
  "kernelspec": {
   "display_name": ".venv",
   "language": "python",
   "name": "python3"
  },
  "language_info": {
   "codemirror_mode": {
    "name": "ipython",
    "version": 3
   },
   "file_extension": ".py",
   "mimetype": "text/x-python",
   "name": "python",
   "nbconvert_exporter": "python",
   "pygments_lexer": "ipython3",
   "version": "3.12.3"
  }
 },
 "nbformat": 4,
 "nbformat_minor": 2
}
